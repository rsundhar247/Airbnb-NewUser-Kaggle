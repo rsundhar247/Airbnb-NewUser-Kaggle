{
 "cells": [
  {
   "cell_type": "markdown",
   "metadata": {},
   "source": [
    "### Kaggle - Airbnb Dataset\n",
    "https://www.kaggle.com/c/airbnb-recruiting-new-user-bookings\n",
    "\n",
    "This notebook tries to predict in which countery the airbnb's new users will make his or her bookings. This notebook is an analysis of various classifiers with all the features and only the top important features"
   ]
  },
  {
   "cell_type": "code",
   "execution_count": 1,
   "metadata": {},
   "outputs": [],
   "source": [
    "%matplotlib inline\n",
    "\n",
    "import numpy as np\n",
    "import pandas as pd\n",
    "import matplotlib.pyplot as plt\n",
    "from sklearn import preprocessing\n",
    "from sklearn.model_selection import train_test_split\n",
    "from sklearn.ensemble import RandomForestClassifier\n",
    "from sklearn.naive_bayes import BernoulliNB\n",
    "from sklearn.neural_network import MLPClassifier\n",
    "from sklearn.metrics import accuracy_score, precision_score, recall_score, f1_score, classification_report, confusion_matrix"
   ]
  },
  {
   "cell_type": "code",
   "execution_count": 2,
   "metadata": {},
   "outputs": [],
   "source": [
    "def normalize_df(dataframe):\n",
    "    for field in dataframe:\n",
    "        df_column = dataframe[field].values.reshape(-1, 1)\n",
    "        min_max_scaler = preprocessing.MinMaxScaler()\n",
    "        np_scaled = min_max_scaler.fit_transform(df_column)\n",
    "        dataframe[field] = pd.DataFrame(np_scaled)\n",
    "    return dataframe\n",
    "\n",
    "def score_report(predicted_value, actual_value):\n",
    "    print(\"*\"*100)\n",
    "    print(\"Confusion Matrix ::\\n{}\".format(confusion_matrix(predicted_value, actual_value)))\n",
    "    acc_score = accuracy_score(predicted_value, actual_value)\n",
    "    print(\"\\nAccuracy Score ::\\n{}\".format(acc_score))\n",
    "    prec_score = precision_score(predicted_value, actual_value, average='macro')\n",
    "    print(\"\\nPrecision Score ::\\n{}\".format(prec_score))\n",
    "    rec_score = recall_score(predicted_value, actual_value, average='macro')\n",
    "    print(\"\\nRecall Score ::\\n{}\".format(rec_score))\n",
    "    f1_scre = f1_score(predicted_value, actual_value, average='macro')\n",
    "    print(\"\\nF1 Score ::\\n{}\".format(f1_scre))\n",
    "    print(\"\\nClassification Report ::\\n{}\".format(classification_report(predicted_value, actual_value)))    \n",
    "    print(\"*\"*100)\n",
    "    return acc_score, prec_score, rec_score, f1_scre"
   ]
  },
  {
   "cell_type": "code",
   "execution_count": 3,
   "metadata": {},
   "outputs": [],
   "source": [
    "with open('data/train_users_2.csv', 'rb') as file_:\n",
    "    train_df = pd.read_csv(file_)"
   ]
  },
  {
   "cell_type": "code",
   "execution_count": 4,
   "metadata": {},
   "outputs": [
    {
     "data": {
      "text/html": [
       "<div>\n",
       "<style scoped>\n",
       "    .dataframe tbody tr th:only-of-type {\n",
       "        vertical-align: middle;\n",
       "    }\n",
       "\n",
       "    .dataframe tbody tr th {\n",
       "        vertical-align: top;\n",
       "    }\n",
       "\n",
       "    .dataframe thead th {\n",
       "        text-align: right;\n",
       "    }\n",
       "</style>\n",
       "<table border=\"1\" class=\"dataframe\">\n",
       "  <thead>\n",
       "    <tr style=\"text-align: right;\">\n",
       "      <th></th>\n",
       "      <th>id</th>\n",
       "      <th>date_account_created</th>\n",
       "      <th>timestamp_first_active</th>\n",
       "      <th>date_first_booking</th>\n",
       "      <th>gender</th>\n",
       "      <th>age</th>\n",
       "      <th>signup_method</th>\n",
       "      <th>signup_flow</th>\n",
       "      <th>language</th>\n",
       "      <th>affiliate_channel</th>\n",
       "      <th>affiliate_provider</th>\n",
       "      <th>first_affiliate_tracked</th>\n",
       "      <th>signup_app</th>\n",
       "      <th>first_device_type</th>\n",
       "      <th>first_browser</th>\n",
       "      <th>country_destination</th>\n",
       "    </tr>\n",
       "  </thead>\n",
       "  <tbody>\n",
       "    <tr>\n",
       "      <th>0</th>\n",
       "      <td>gxn3p5htnn</td>\n",
       "      <td>2010-06-28</td>\n",
       "      <td>20090319043255</td>\n",
       "      <td>NaN</td>\n",
       "      <td>-unknown-</td>\n",
       "      <td>NaN</td>\n",
       "      <td>facebook</td>\n",
       "      <td>0</td>\n",
       "      <td>en</td>\n",
       "      <td>direct</td>\n",
       "      <td>direct</td>\n",
       "      <td>untracked</td>\n",
       "      <td>Web</td>\n",
       "      <td>Mac Desktop</td>\n",
       "      <td>Chrome</td>\n",
       "      <td>NDF</td>\n",
       "    </tr>\n",
       "    <tr>\n",
       "      <th>1</th>\n",
       "      <td>820tgsjxq7</td>\n",
       "      <td>2011-05-25</td>\n",
       "      <td>20090523174809</td>\n",
       "      <td>NaN</td>\n",
       "      <td>MALE</td>\n",
       "      <td>38.0</td>\n",
       "      <td>facebook</td>\n",
       "      <td>0</td>\n",
       "      <td>en</td>\n",
       "      <td>seo</td>\n",
       "      <td>google</td>\n",
       "      <td>untracked</td>\n",
       "      <td>Web</td>\n",
       "      <td>Mac Desktop</td>\n",
       "      <td>Chrome</td>\n",
       "      <td>NDF</td>\n",
       "    </tr>\n",
       "    <tr>\n",
       "      <th>2</th>\n",
       "      <td>4ft3gnwmtx</td>\n",
       "      <td>2010-09-28</td>\n",
       "      <td>20090609231247</td>\n",
       "      <td>2010-08-02</td>\n",
       "      <td>FEMALE</td>\n",
       "      <td>56.0</td>\n",
       "      <td>basic</td>\n",
       "      <td>3</td>\n",
       "      <td>en</td>\n",
       "      <td>direct</td>\n",
       "      <td>direct</td>\n",
       "      <td>untracked</td>\n",
       "      <td>Web</td>\n",
       "      <td>Windows Desktop</td>\n",
       "      <td>IE</td>\n",
       "      <td>US</td>\n",
       "    </tr>\n",
       "    <tr>\n",
       "      <th>3</th>\n",
       "      <td>bjjt8pjhuk</td>\n",
       "      <td>2011-12-05</td>\n",
       "      <td>20091031060129</td>\n",
       "      <td>2012-09-08</td>\n",
       "      <td>FEMALE</td>\n",
       "      <td>42.0</td>\n",
       "      <td>facebook</td>\n",
       "      <td>0</td>\n",
       "      <td>en</td>\n",
       "      <td>direct</td>\n",
       "      <td>direct</td>\n",
       "      <td>untracked</td>\n",
       "      <td>Web</td>\n",
       "      <td>Mac Desktop</td>\n",
       "      <td>Firefox</td>\n",
       "      <td>other</td>\n",
       "    </tr>\n",
       "    <tr>\n",
       "      <th>4</th>\n",
       "      <td>87mebub9p4</td>\n",
       "      <td>2010-09-14</td>\n",
       "      <td>20091208061105</td>\n",
       "      <td>2010-02-18</td>\n",
       "      <td>-unknown-</td>\n",
       "      <td>41.0</td>\n",
       "      <td>basic</td>\n",
       "      <td>0</td>\n",
       "      <td>en</td>\n",
       "      <td>direct</td>\n",
       "      <td>direct</td>\n",
       "      <td>untracked</td>\n",
       "      <td>Web</td>\n",
       "      <td>Mac Desktop</td>\n",
       "      <td>Chrome</td>\n",
       "      <td>US</td>\n",
       "    </tr>\n",
       "  </tbody>\n",
       "</table>\n",
       "</div>"
      ],
      "text/plain": [
       "           id date_account_created  timestamp_first_active date_first_booking  \\\n",
       "0  gxn3p5htnn           2010-06-28          20090319043255                NaN   \n",
       "1  820tgsjxq7           2011-05-25          20090523174809                NaN   \n",
       "2  4ft3gnwmtx           2010-09-28          20090609231247         2010-08-02   \n",
       "3  bjjt8pjhuk           2011-12-05          20091031060129         2012-09-08   \n",
       "4  87mebub9p4           2010-09-14          20091208061105         2010-02-18   \n",
       "\n",
       "      gender   age signup_method  signup_flow language affiliate_channel  \\\n",
       "0  -unknown-   NaN      facebook            0       en            direct   \n",
       "1       MALE  38.0      facebook            0       en               seo   \n",
       "2     FEMALE  56.0         basic            3       en            direct   \n",
       "3     FEMALE  42.0      facebook            0       en            direct   \n",
       "4  -unknown-  41.0         basic            0       en            direct   \n",
       "\n",
       "  affiliate_provider first_affiliate_tracked signup_app first_device_type  \\\n",
       "0             direct               untracked        Web       Mac Desktop   \n",
       "1             google               untracked        Web       Mac Desktop   \n",
       "2             direct               untracked        Web   Windows Desktop   \n",
       "3             direct               untracked        Web       Mac Desktop   \n",
       "4             direct               untracked        Web       Mac Desktop   \n",
       "\n",
       "  first_browser country_destination  \n",
       "0        Chrome                 NDF  \n",
       "1        Chrome                 NDF  \n",
       "2            IE                  US  \n",
       "3       Firefox               other  \n",
       "4        Chrome                  US  "
      ]
     },
     "execution_count": 4,
     "metadata": {},
     "output_type": "execute_result"
    }
   ],
   "source": [
    "train_df.head()"
   ]
  },
  {
   "cell_type": "code",
   "execution_count": 5,
   "metadata": {},
   "outputs": [],
   "source": [
    "train_df['date_account_created'] = pd.to_datetime(train_df['date_account_created'])\n",
    "train_df['date_first_booking'] = pd.to_datetime(train_df['date_first_booking'])"
   ]
  },
  {
   "cell_type": "markdown",
   "metadata": {},
   "source": [
    "Visualizing the data can give us better hind sight"
   ]
  },
  {
   "cell_type": "code",
   "execution_count": 6,
   "metadata": {
    "scrolled": true
   },
   "outputs": [
    {
     "data": {
      "image/png": "[encoded data removed]",
      "text/plain": [
       "<Figure size 432x288 with 1 Axes>"
      ]
     },
     "metadata": {},
     "output_type": "display_data"
    }
   ],
   "source": [
    "train_df.groupby([train_df['date_account_created'].dt.year, train_df['date_account_created'].dt.month]) \\\n",
    "            ['id'].count().plot(kind='bar')\n",
    "plt.xlabel(\"Account creation month and year\")\n",
    "plt.xticks([])\n",
    "plt.ylabel(\"Number of users\")\n",
    "plt.title(\"New users creation date distribution across various months\")\n",
    "plt.show()"
   ]
  },
  {
   "cell_type": "markdown",
   "metadata": {},
   "source": [
    "We need to remove the error data. Lets just make the errors as nan."
   ]
  },
  {
   "cell_type": "code",
   "execution_count": 7,
   "metadata": {},
   "outputs": [],
   "source": [
    "train_df[train_df.age<10] = np.nan\n",
    "train_df[train_df.age>100] = np.nan"
   ]
  },
  {
   "cell_type": "code",
   "execution_count": 8,
   "metadata": {
    "scrolled": false
   },
   "outputs": [
    {
     "data": {
      "image/png": "[encoded data removed]",
      "text/plain": [
       "<Figure size 432x288 with 1 Axes>"
      ]
     },
     "metadata": {},
     "output_type": "display_data"
    }
   ],
   "source": [
    "train_df.age.plot(kind='hist', bins=40)\n",
    "plt.xlabel(\"Age\")\n",
    "plt.ylabel(\"Number of users\")\n",
    "plt.title(\"New users distribution across various ages\")\n",
    "plt.show()"
   ]
  },
  {
   "cell_type": "markdown",
   "metadata": {},
   "source": [
    "As we can see most of the user's are between the age 25 and 40. It will be useful to consider this as a seperate feature"
   ]
  },
  {
   "cell_type": "code",
   "execution_count": 9,
   "metadata": {
    "scrolled": false
   },
   "outputs": [
    {
     "data": {
      "image/png": "[encoded data removed]",
      "text/plain": [
       "<Figure size 432x288 with 1 Axes>"
      ]
     },
     "metadata": {},
     "output_type": "display_data"
    },
    {
     "data": {
      "text/plain": [
       "gender\n",
       "OTHER          279\n",
       "MALE         53732\n",
       "FEMALE       62069\n",
       "-unknown-    94969\n",
       "Name: id, dtype: int64"
      ]
     },
     "execution_count": 9,
     "metadata": {},
     "output_type": "execute_result"
    }
   ],
   "source": [
    "train_df.groupby('gender')['id'].count().sort_values().plot(kind='bar')\n",
    "plt.xlabel('Gender')\n",
    "plt.ylabel('Number of Users')\n",
    "plt.title('Distribution based on gender')\n",
    "plt.show()\n",
    "\n",
    "train_df.groupby('gender')['id'].count().sort_values()"
   ]
  },
  {
   "cell_type": "markdown",
   "metadata": {},
   "source": [
    "Our train data is very much skewed towards a single category. Inorder to overcome this we can do weighted sampling. But for simplicity and to understand the concepts I'm doing normal train-test split"
   ]
  },
  {
   "cell_type": "code",
   "execution_count": 10,
   "metadata": {},
   "outputs": [
    {
     "data": {
      "image/png": "[encoded data removed]",
      "text/plain": [
       "<Figure size 432x288 with 1 Axes>"
      ]
     },
     "metadata": {},
     "output_type": "display_data"
    }
   ],
   "source": [
    "train_df.groupby('country_destination')['id'].count().sort_values().plot(kind='bar')\n",
    "plt.xlabel('Country')\n",
    "plt.ylabel('Number of Users')\n",
    "plt.title('Distribution based on the users destination')\n",
    "plt.show()"
   ]
  },
  {
   "cell_type": "markdown",
   "metadata": {},
   "source": [
    "One way to encode dates."
   ]
  },
  {
   "cell_type": "code",
   "execution_count": 11,
   "metadata": {},
   "outputs": [],
   "source": [
    "train_df['date_account_created_day'] = train_df['date_account_created'].dt.day\n",
    "train_df['date_account_created_month'] = train_df['date_account_created'].dt.month\n",
    "train_df['date_account_created_year'] = train_df['date_account_created'].dt.year\n",
    "\n",
    "train_df['date_first_booking_day'] = train_df['date_first_booking'].dt.day\n",
    "train_df['date_first_booking_month'] = train_df['date_first_booking'].dt.month\n",
    "train_df['date_first_booking_year'] = train_df['date_first_booking'].dt.year"
   ]
  },
  {
   "cell_type": "code",
   "execution_count": 12,
   "metadata": {},
   "outputs": [],
   "source": [
    "train_df['age_25_to_40'] = ((train_df.age > 25) & (train_df.age < 40)).map({True:1, False:0})\n",
    "train_df['age_less_than_25'] = (train_df.age < 25).map({True:1, False:0})\n",
    "train_df['age_more_than_40'] = (train_df.age > 40).map({True:1, False:0})\n",
    "train_df['age_is_nan'] = (train_df.age.isnull()).map({True:1, False:0})"
   ]
  },
  {
   "cell_type": "code",
   "execution_count": 13,
   "metadata": {},
   "outputs": [],
   "source": [
    "train_df['gender_unknown_or_other'] = ((train_df.gender == '-unknown-') | (train_df.gender == 'OTHER')).map({True:1, False:0})"
   ]
  },
  {
   "cell_type": "code",
   "execution_count": 14,
   "metadata": {
    "scrolled": false
   },
   "outputs": [
    {
     "data": {
      "text/html": [
       "<div>\n",
       "<style scoped>\n",
       "    .dataframe tbody tr th:only-of-type {\n",
       "        vertical-align: middle;\n",
       "    }\n",
       "\n",
       "    .dataframe tbody tr th {\n",
       "        vertical-align: top;\n",
       "    }\n",
       "\n",
       "    .dataframe thead th {\n",
       "        text-align: right;\n",
       "    }\n",
       "</style>\n",
       "<table border=\"1\" class=\"dataframe\">\n",
       "  <thead>\n",
       "    <tr style=\"text-align: right;\">\n",
       "      <th></th>\n",
       "      <th>id</th>\n",
       "      <th>date_account_created</th>\n",
       "      <th>timestamp_first_active</th>\n",
       "      <th>date_first_booking</th>\n",
       "      <th>gender</th>\n",
       "      <th>age</th>\n",
       "      <th>signup_method</th>\n",
       "      <th>signup_flow</th>\n",
       "      <th>language</th>\n",
       "      <th>affiliate_channel</th>\n",
       "      <th>...</th>\n",
       "      <th>date_account_created_month</th>\n",
       "      <th>date_account_created_year</th>\n",
       "      <th>date_first_booking_day</th>\n",
       "      <th>date_first_booking_month</th>\n",
       "      <th>date_first_booking_year</th>\n",
       "      <th>age_25_to_40</th>\n",
       "      <th>age_less_than_25</th>\n",
       "      <th>age_more_than_40</th>\n",
       "      <th>age_is_nan</th>\n",
       "      <th>gender_unknown_or_other</th>\n",
       "    </tr>\n",
       "  </thead>\n",
       "  <tbody>\n",
       "    <tr>\n",
       "      <th>0</th>\n",
       "      <td>gxn3p5htnn</td>\n",
       "      <td>2010-06-28</td>\n",
       "      <td>2.009032e+13</td>\n",
       "      <td>NaT</td>\n",
       "      <td>-unknown-</td>\n",
       "      <td>NaN</td>\n",
       "      <td>facebook</td>\n",
       "      <td>0.0</td>\n",
       "      <td>en</td>\n",
       "      <td>direct</td>\n",
       "      <td>...</td>\n",
       "      <td>6.0</td>\n",
       "      <td>2010.0</td>\n",
       "      <td>NaN</td>\n",
       "      <td>NaN</td>\n",
       "      <td>NaN</td>\n",
       "      <td>0</td>\n",
       "      <td>0</td>\n",
       "      <td>0</td>\n",
       "      <td>1</td>\n",
       "      <td>1</td>\n",
       "    </tr>\n",
       "    <tr>\n",
       "      <th>1</th>\n",
       "      <td>820tgsjxq7</td>\n",
       "      <td>2011-05-25</td>\n",
       "      <td>2.009052e+13</td>\n",
       "      <td>NaT</td>\n",
       "      <td>MALE</td>\n",
       "      <td>38.0</td>\n",
       "      <td>facebook</td>\n",
       "      <td>0.0</td>\n",
       "      <td>en</td>\n",
       "      <td>seo</td>\n",
       "      <td>...</td>\n",
       "      <td>5.0</td>\n",
       "      <td>2011.0</td>\n",
       "      <td>NaN</td>\n",
       "      <td>NaN</td>\n",
       "      <td>NaN</td>\n",
       "      <td>1</td>\n",
       "      <td>0</td>\n",
       "      <td>0</td>\n",
       "      <td>0</td>\n",
       "      <td>0</td>\n",
       "    </tr>\n",
       "    <tr>\n",
       "      <th>2</th>\n",
       "      <td>4ft3gnwmtx</td>\n",
       "      <td>2010-09-28</td>\n",
       "      <td>2.009061e+13</td>\n",
       "      <td>2010-08-02</td>\n",
       "      <td>FEMALE</td>\n",
       "      <td>56.0</td>\n",
       "      <td>basic</td>\n",
       "      <td>3.0</td>\n",
       "      <td>en</td>\n",
       "      <td>direct</td>\n",
       "      <td>...</td>\n",
       "      <td>9.0</td>\n",
       "      <td>2010.0</td>\n",
       "      <td>2.0</td>\n",
       "      <td>8.0</td>\n",
       "      <td>2010.0</td>\n",
       "      <td>0</td>\n",
       "      <td>0</td>\n",
       "      <td>1</td>\n",
       "      <td>0</td>\n",
       "      <td>0</td>\n",
       "    </tr>\n",
       "    <tr>\n",
       "      <th>3</th>\n",
       "      <td>bjjt8pjhuk</td>\n",
       "      <td>2011-12-05</td>\n",
       "      <td>2.009103e+13</td>\n",
       "      <td>2012-09-08</td>\n",
       "      <td>FEMALE</td>\n",
       "      <td>42.0</td>\n",
       "      <td>facebook</td>\n",
       "      <td>0.0</td>\n",
       "      <td>en</td>\n",
       "      <td>direct</td>\n",
       "      <td>...</td>\n",
       "      <td>12.0</td>\n",
       "      <td>2011.0</td>\n",
       "      <td>8.0</td>\n",
       "      <td>9.0</td>\n",
       "      <td>2012.0</td>\n",
       "      <td>0</td>\n",
       "      <td>0</td>\n",
       "      <td>1</td>\n",
       "      <td>0</td>\n",
       "      <td>0</td>\n",
       "    </tr>\n",
       "    <tr>\n",
       "      <th>4</th>\n",
       "      <td>87mebub9p4</td>\n",
       "      <td>2010-09-14</td>\n",
       "      <td>2.009121e+13</td>\n",
       "      <td>2010-02-18</td>\n",
       "      <td>-unknown-</td>\n",
       "      <td>41.0</td>\n",
       "      <td>basic</td>\n",
       "      <td>0.0</td>\n",
       "      <td>en</td>\n",
       "      <td>direct</td>\n",
       "      <td>...</td>\n",
       "      <td>9.0</td>\n",
       "      <td>2010.0</td>\n",
       "      <td>18.0</td>\n",
       "      <td>2.0</td>\n",
       "      <td>2010.0</td>\n",
       "      <td>0</td>\n",
       "      <td>0</td>\n",
       "      <td>1</td>\n",
       "      <td>0</td>\n",
       "      <td>1</td>\n",
       "    </tr>\n",
       "  </tbody>\n",
       "</table>\n",
       "<p>5 rows × 27 columns</p>\n",
       "</div>"
      ],
      "text/plain": [
       "           id date_account_created  timestamp_first_active date_first_booking  \\\n",
       "0  gxn3p5htnn           2010-06-28            2.009032e+13                NaT   \n",
       "1  820tgsjxq7           2011-05-25            2.009052e+13                NaT   \n",
       "2  4ft3gnwmtx           2010-09-28            2.009061e+13         2010-08-02   \n",
       "3  bjjt8pjhuk           2011-12-05            2.009103e+13         2012-09-08   \n",
       "4  87mebub9p4           2010-09-14            2.009121e+13         2010-02-18   \n",
       "\n",
       "      gender   age signup_method  signup_flow language affiliate_channel  \\\n",
       "0  -unknown-   NaN      facebook          0.0       en            direct   \n",
       "1       MALE  38.0      facebook          0.0       en               seo   \n",
       "2     FEMALE  56.0         basic          3.0       en            direct   \n",
       "3     FEMALE  42.0      facebook          0.0       en            direct   \n",
       "4  -unknown-  41.0         basic          0.0       en            direct   \n",
       "\n",
       "            ...            date_account_created_month  \\\n",
       "0           ...                                   6.0   \n",
       "1           ...                                   5.0   \n",
       "2           ...                                   9.0   \n",
       "3           ...                                  12.0   \n",
       "4           ...                                   9.0   \n",
       "\n",
       "  date_account_created_year date_first_booking_day date_first_booking_month  \\\n",
       "0                    2010.0                    NaN                      NaN   \n",
       "1                    2011.0                    NaN                      NaN   \n",
       "2                    2010.0                    2.0                      8.0   \n",
       "3                    2011.0                    8.0                      9.0   \n",
       "4                    2010.0                   18.0                      2.0   \n",
       "\n",
       "  date_first_booking_year age_25_to_40  age_less_than_25  age_more_than_40  \\\n",
       "0                     NaN            0                 0                 0   \n",
       "1                     NaN            1                 0                 0   \n",
       "2                  2010.0            0                 0                 1   \n",
       "3                  2012.0            0                 0                 1   \n",
       "4                  2010.0            0                 0                 1   \n",
       "\n",
       "   age_is_nan  gender_unknown_or_other  \n",
       "0           1                        1  \n",
       "1           0                        0  \n",
       "2           0                        0  \n",
       "3           0                        0  \n",
       "4           0                        1  \n",
       "\n",
       "[5 rows x 27 columns]"
      ]
     },
     "execution_count": 14,
     "metadata": {},
     "output_type": "execute_result"
    }
   ],
   "source": [
    "train_df.head()"
   ]
  },
  {
   "cell_type": "markdown",
   "metadata": {},
   "source": [
    "Do one-hot encoding on the categorical variables."
   ]
  },
  {
   "cell_type": "code",
   "execution_count": 15,
   "metadata": {},
   "outputs": [],
   "source": [
    "one_hot_columns = ['gender', 'signup_method', 'language', 'affiliate_channel', 'affiliate_provider', \\\n",
    "                   'first_affiliate_tracked', 'signup_app', 'first_device_type', 'first_browser']\n",
    "encoding = pd.get_dummies(train_df[one_hot_columns], columns=one_hot_columns, prefix=one_hot_columns)"
   ]
  },
  {
   "cell_type": "markdown",
   "metadata": {},
   "source": [
    "Normalizing the data between 0 and 1."
   ]
  },
  {
   "cell_type": "code",
   "execution_count": 16,
   "metadata": {
    "scrolled": false
   },
   "outputs": [
    {
     "name": "stderr",
     "output_type": "stream",
     "text": [
      "c:\\users\\rajsu\\appdata\\local\\programs\\python\\python36\\lib\\site-packages\\sklearn\\utils\\validation.py:475: DataConversionWarning: Data with input dtype int32 was converted to float64 by MinMaxScaler.\n",
      "  warnings.warn(msg, DataConversionWarning)\n",
      "c:\\users\\rajsu\\appdata\\local\\programs\\python\\python36\\lib\\site-packages\\ipykernel_launcher.py:6: SettingWithCopyWarning: \n",
      "A value is trying to be set on a copy of a slice from a DataFrame.\n",
      "Try using .loc[row_indexer,col_indexer] = value instead\n",
      "\n",
      "See the caveats in the documentation: http://pandas.pydata.org/pandas-docs/stable/indexing.html#indexing-view-versus-copy\n",
      "  \n"
     ]
    }
   ],
   "source": [
    "normalize_columns = ['age', 'date_account_created_day', 'date_account_created_month', 'date_account_created_year', \\\n",
    "                    'date_first_booking_day', 'date_first_booking_month', 'date_first_booking_year', 'signup_flow']\n",
    "train_df[normalize_columns] = train_df[normalize_columns].fillna(0).astype(int)\n",
    "train_df[normalize_columns] = normalize_df(train_df[normalize_columns])"
   ]
  },
  {
   "cell_type": "code",
   "execution_count": 17,
   "metadata": {},
   "outputs": [],
   "source": [
    "encoded_df = pd.concat([train_df['id'], train_df[normalize_columns], encoding], axis=1)"
   ]
  },
  {
   "cell_type": "code",
   "execution_count": 18,
   "metadata": {},
   "outputs": [],
   "source": [
    "X = encoded_df.drop('id', axis=1)\n",
    "y = train_df['country_destination'].fillna('other')"
   ]
  },
  {
   "cell_type": "code",
   "execution_count": 19,
   "metadata": {},
   "outputs": [],
   "source": [
    "X_train, X_test, y_train, y_test = train_test_split(X, y, test_size=0.2)"
   ]
  },
  {
   "cell_type": "code",
   "execution_count": 20,
   "metadata": {
    "scrolled": true
   },
   "outputs": [
    {
     "name": "stdout",
     "output_type": "stream",
     "text": [
      "****************************************************************************************************\n",
      "Confusion Matrix ::\n",
      "[[    0     1     2     0     2     1     0     0     0     0    16     4]\n",
      " [    1     0     0     1     6     5     2     0     0     0    43     7]\n",
      " [    0     3     2     0     0     2     0     0     0     0    23     8]\n",
      " [    0     3     1     3     9     3     5     0     5     0    59    11]\n",
      " [    2     3     2     6    20     8    10     0     2     1   184    35]\n",
      " [    2     1     2     2     6     1     3     0     1     2    61    14]\n",
      " [    0     0     2     7     8     2     6     0     1     1    87    17]\n",
      " [    0     0     0     0     0     0     0 24667     0     0     0     0]\n",
      " [    0     1     0     1     0     1     0     0     0     0    21     1]\n",
      " [    0     0     0     0     0     1     0     0     0     0     7     0]\n",
      " [  103   267   195   382   925   394   529     0   146    44 11427  1862]\n",
      " [    4    10     3    21    23     9    13     0     7     0   332   568]]\n",
      "\n",
      "Accuracy Score ::\n",
      "0.8595254269049682\n",
      "\n",
      "Precision Score ::\n",
      "0.18386790163620306\n",
      "\n",
      "Recall Score ::\n",
      "0.20736857150637453\n",
      "\n",
      "F1 Score ::\n",
      "0.18367297622730017\n",
      "\n",
      "Classification Report ::\n",
      "             precision    recall  f1-score   support\n",
      "\n",
      "         AU       0.00      0.00      0.00        26\n",
      "         CA       0.00      0.00      0.00        65\n",
      "         DE       0.01      0.05      0.02        38\n",
      "         ES       0.01      0.03      0.01        99\n",
      "         FR       0.02      0.07      0.03       273\n",
      "         GB       0.00      0.01      0.00        95\n",
      "         IT       0.01      0.05      0.02       131\n",
      "        NDF       1.00      1.00      1.00     24667\n",
      "         NL       0.00      0.00      0.00        25\n",
      "         PT       0.00      0.00      0.00         8\n",
      "         US       0.93      0.70      0.80     16274\n",
      "      other       0.22      0.57      0.32       990\n",
      "\n",
      "avg / total       0.94      0.86      0.89     42691\n",
      "\n",
      "****************************************************************************************************\n"
     ]
    }
   ],
   "source": [
    "clf = RandomForestClassifier()\n",
    "\n",
    "clf.fit(X=X_train, y=y_train)\n",
    "preds = clf.predict(X_test)\n",
    "\n",
    "all_features_acc_score, all_features_prec_score, all_features_rec_score, all_features_f1_score = score_report(preds, y_test)"
   ]
  },
  {
   "cell_type": "code",
   "execution_count": 21,
   "metadata": {
    "scrolled": true
   },
   "outputs": [
    {
     "name": "stdout",
     "output_type": "stream",
     "text": [
      "Top 20 features :\n",
      "                                   importance\n",
      "date_first_booking_day               0.360504\n",
      "date_first_booking_month             0.242908\n",
      "date_first_booking_year              0.107576\n",
      "date_account_created_day             0.066166\n",
      "age                                  0.054233\n",
      "date_account_created_month           0.041020\n",
      "date_account_created_year            0.014215\n",
      "gender_FEMALE                        0.009133\n",
      "gender_-unknown-                     0.008420\n",
      "signup_flow                          0.007187\n",
      "gender_MALE                          0.005915\n",
      "language_en                          0.005666\n",
      "signup_method_basic                  0.005535\n",
      "first_affiliate_tracked_untracked    0.004669\n",
      "first_browser_Chrome                 0.004391\n",
      "first_affiliate_tracked_linked       0.004293\n",
      "first_browser_Firefox                0.004290\n",
      "signup_method_facebook               0.004223\n",
      "first_device_type_Mac Desktop        0.003713\n",
      "first_device_type_Windows Desktop    0.003536\n"
     ]
    }
   ],
   "source": [
    "feature_importances = pd.DataFrame(clf.feature_importances_, index = X_train.columns, columns=['importance'])\\\n",
    "                    .sort_values('importance', ascending=False)\n",
    "print(\"Top 20 features :\\n{}\".format(feature_importances[:20]))\n",
    "top_features = feature_importances.index.tolist()"
   ]
  },
  {
   "cell_type": "code",
   "execution_count": 22,
   "metadata": {
    "scrolled": true
   },
   "outputs": [
    {
     "name": "stdout",
     "output_type": "stream",
     "text": [
      "****************************************************************************************************\n",
      "Confusion Matrix ::\n",
      "[[    0     0     0     0     0     0     0     0     0     0     0     0]\n",
      " [    0     0     0     0     0     0     0     0     0     0     1     1]\n",
      " [    0     0     0     0     0     0     0     0     0     0     2     0]\n",
      " [    0     0     0     0     0     0     0     0     0     0     1     1]\n",
      " [    0     0     0     0     1     0     0     0     0     0     2     2]\n",
      " [    0     0     0     0     0     0     0     0     0     0     0     0]\n",
      " [    0     0     0     1     0     0     0     0     0     0     3     0]\n",
      " [    0     0     0     0     0     0     0 24667     0     0     0     0]\n",
      " [    0     0     0     0     0     0     0     0     0     0     0     0]\n",
      " [    0     0     0     0     0     0     0     0     0     0     4     0]\n",
      " [  112   289   209   421   994   427   567     0   162    48 12218  2017]\n",
      " [    0     0     0     1     4     0     1     0     0     0    29   506]]\n",
      "\n",
      "Accuracy Score ::\n",
      "0.8758754772668712\n",
      "\n",
      "Precision Score ::\n",
      "0.18315105515148747\n",
      "\n",
      "Recall Score ::\n",
      "0.23624296819454874\n"
     ]
    },
    {
     "name": "stderr",
     "output_type": "stream",
     "text": [
      "c:\\users\\rajsu\\appdata\\local\\programs\\python\\python36\\lib\\site-packages\\sklearn\\metrics\\classification.py:1137: UndefinedMetricWarning: Recall is ill-defined and being set to 0.0 in labels with no true samples.\n",
      "  'recall', 'true', average, warn_for)\n",
      "c:\\users\\rajsu\\appdata\\local\\programs\\python\\python36\\lib\\site-packages\\sklearn\\metrics\\classification.py:1137: UndefinedMetricWarning: F-score is ill-defined and being set to 0.0 in labels with no true samples.\n",
      "  'recall', 'true', average, warn_for)\n"
     ]
    },
    {
     "name": "stdout",
     "output_type": "stream",
     "text": [
      "\n",
      "F1 Score ::\n",
      "0.1794954365187075\n",
      "\n",
      "Classification Report ::\n",
      "             precision    recall  f1-score   support\n",
      "\n",
      "         AU       0.00      0.00      0.00         0\n",
      "         CA       0.00      0.00      0.00         2\n",
      "         DE       0.00      0.00      0.00         2\n",
      "         ES       0.00      0.00      0.00         2\n",
      "         FR       0.00      0.20      0.00         5\n",
      "         GB       0.00      0.00      0.00         0\n",
      "         IT       0.00      0.00      0.00         4\n",
      "        NDF       1.00      1.00      1.00     24667\n",
      "         NL       0.00      0.00      0.00         0\n",
      "         PT       0.00      0.00      0.00         4\n",
      "         US       1.00      0.70      0.82     17464\n",
      "      other       0.20      0.94      0.33       541\n",
      "\n",
      "avg / total       0.99      0.88      0.92     42691\n",
      "\n",
      "****************************************************************************************************\n"
     ]
    },
    {
     "name": "stderr",
     "output_type": "stream",
     "text": [
      "c:\\users\\rajsu\\appdata\\local\\programs\\python\\python36\\lib\\site-packages\\sklearn\\metrics\\classification.py:1137: UndefinedMetricWarning: Recall and F-score are ill-defined and being set to 0.0 in labels with no true samples.\n",
      "  'recall', 'true', average, warn_for)\n"
     ]
    }
   ],
   "source": [
    "clf = BernoulliNB()\n",
    "clf.fit(X_train, y_train)\n",
    "preds = clf.predict(X_test)\n",
    "all_nb_acc_score, all_nb_prec_score, all_nb_rec_score, all_nb_f1_score = score_report(preds, y_test)"
   ]
  },
  {
   "cell_type": "code",
   "execution_count": 23,
   "metadata": {
    "scrolled": true
   },
   "outputs": [
    {
     "name": "stdout",
     "output_type": "stream",
     "text": [
      "****************************************************************************************************\n",
      "Confusion Matrix ::\n",
      "[[    0     0     0     0     0     0     0     0     0     0     0     0]\n",
      " [    0     0     0     0     0     0     0     0     0     0     0     0]\n",
      " [    0     0     0     0     0     0     0     0     0     0     2     0]\n",
      " [    0     0     0     0     0     0     0     0     0     0     1     0]\n",
      " [    0     0     0     0     2     0     0     0     0     0     6     0]\n",
      " [    0     0     0     0     0     0     0     0     0     0     0     0]\n",
      " [    0     0     0     1     0     0     0     0     0     0     3     1]\n",
      " [    0     0     0     0     0     0     0 24667     0     0     0     0]\n",
      " [    0     0     0     0     0     0     0     0     0     0     0     2]\n",
      " [    0     0     0     0     0     0     0     0     0     0     0     0]\n",
      " [  112   287   208   422   996   426   567     0   162    48 12216  2023]\n",
      " [    0     2     1     0     1     1     1     0     0     0    32   501]]\n",
      "\n",
      "Accuracy Score ::\n",
      "0.8757349324213535\n",
      "\n",
      "Precision Score ::\n",
      "0.18305599165786035\n"
     ]
    },
    {
     "name": "stderr",
     "output_type": "stream",
     "text": [
      "c:\\users\\rajsu\\appdata\\local\\programs\\python\\python36\\lib\\site-packages\\sklearn\\metrics\\classification.py:1137: UndefinedMetricWarning: Recall is ill-defined and being set to 0.0 in labels with no true samples.\n",
      "  'recall', 'true', average, warn_for)\n",
      "c:\\users\\rajsu\\appdata\\local\\programs\\python\\python36\\lib\\site-packages\\sklearn\\metrics\\classification.py:1137: UndefinedMetricWarning: F-score is ill-defined and being set to 0.0 in labels with no true samples.\n",
      "  'recall', 'true', average, warn_for)\n"
     ]
    },
    {
     "name": "stdout",
     "output_type": "stream",
     "text": [
      "\n",
      "Recall Score ::\n",
      "0.239906253205311\n",
      "\n",
      "F1 Score ::\n",
      "0.17938845588091976\n",
      "\n",
      "Classification Report ::\n",
      "             precision    recall  f1-score   support\n",
      "\n",
      "         AU       0.00      0.00      0.00         0\n",
      "         CA       0.00      0.00      0.00         0\n",
      "         DE       0.00      0.00      0.00         2\n",
      "         ES       0.00      0.00      0.00         1\n",
      "         FR       0.00      0.25      0.00         8\n",
      "         GB       0.00      0.00      0.00         0\n",
      "         IT       0.00      0.00      0.00         5\n",
      "        NDF       1.00      1.00      1.00     24667\n",
      "         NL       0.00      0.00      0.00         2\n",
      "         PT       0.00      0.00      0.00         0\n",
      "         US       1.00      0.70      0.82     17467\n",
      "      other       0.20      0.93      0.33       539\n",
      "\n",
      "avg / total       0.99      0.88      0.92     42691\n",
      "\n",
      "****************************************************************************************************\n"
     ]
    },
    {
     "name": "stderr",
     "output_type": "stream",
     "text": [
      "c:\\users\\rajsu\\appdata\\local\\programs\\python\\python36\\lib\\site-packages\\sklearn\\metrics\\classification.py:1137: UndefinedMetricWarning: Recall and F-score are ill-defined and being set to 0.0 in labels with no true samples.\n",
      "  'recall', 'true', average, warn_for)\n"
     ]
    }
   ],
   "source": [
    "clf = MLPClassifier()\n",
    "clf.fit(X_train, y_train)\n",
    "preds = clf.predict(X_test)\n",
    "all_nn_acc_score, all_nn_prec_score, all_nn_rec_score, all_nn_f1_score = score_report(preds, y_test)"
   ]
  },
  {
   "cell_type": "markdown",
   "metadata": {},
   "source": [
    "We can filter out the features that have less importance."
   ]
  },
  {
   "cell_type": "code",
   "execution_count": 24,
   "metadata": {
    "scrolled": true
   },
   "outputs": [
    {
     "name": "stdout",
     "output_type": "stream",
     "text": [
      "importance    68\n",
      "dtype: int64\n"
     ]
    }
   ],
   "source": [
    "print(feature_importances[feature_importances['importance'] > 0.0001].count())"
   ]
  },
  {
   "cell_type": "markdown",
   "metadata": {},
   "source": [
    "Take the top 70 features and do train-test split"
   ]
  },
  {
   "cell_type": "code",
   "execution_count": 25,
   "metadata": {},
   "outputs": [],
   "source": [
    "#oly the top 70 features\n",
    "X_train, X_test, y_train, y_test = train_test_split(X[top_features[:70]], y, test_size=0.2)"
   ]
  },
  {
   "cell_type": "code",
   "execution_count": 26,
   "metadata": {
    "scrolled": true
   },
   "outputs": [
    {
     "data": {
      "text/html": [
       "<div>\n",
       "<style scoped>\n",
       "    .dataframe tbody tr th:only-of-type {\n",
       "        vertical-align: middle;\n",
       "    }\n",
       "\n",
       "    .dataframe tbody tr th {\n",
       "        vertical-align: top;\n",
       "    }\n",
       "\n",
       "    .dataframe thead th {\n",
       "        text-align: right;\n",
       "    }\n",
       "</style>\n",
       "<table border=\"1\" class=\"dataframe\">\n",
       "  <thead>\n",
       "    <tr style=\"text-align: right;\">\n",
       "      <th></th>\n",
       "      <th>date_first_booking_day</th>\n",
       "      <th>date_first_booking_month</th>\n",
       "      <th>date_first_booking_year</th>\n",
       "      <th>date_account_created_day</th>\n",
       "      <th>age</th>\n",
       "      <th>date_account_created_month</th>\n",
       "      <th>date_account_created_year</th>\n",
       "      <th>gender_FEMALE</th>\n",
       "      <th>gender_-unknown-</th>\n",
       "      <th>signup_flow</th>\n",
       "      <th>...</th>\n",
       "      <th>language_it</th>\n",
       "      <th>language_ru</th>\n",
       "      <th>affiliate_provider_yahoo</th>\n",
       "      <th>language_pt</th>\n",
       "      <th>affiliate_provider_facebook-open-graph</th>\n",
       "      <th>language_ja</th>\n",
       "      <th>language_nl</th>\n",
       "      <th>first_browser_Opera</th>\n",
       "      <th>language_sv</th>\n",
       "      <th>affiliate_provider_padmapper</th>\n",
       "    </tr>\n",
       "  </thead>\n",
       "  <tbody>\n",
       "    <tr>\n",
       "      <th>77700</th>\n",
       "      <td>0.709677</td>\n",
       "      <td>0.416667</td>\n",
       "      <td>0.999007</td>\n",
       "      <td>0.548387</td>\n",
       "      <td>0.43</td>\n",
       "      <td>0.416667</td>\n",
       "      <td>0.999503</td>\n",
       "      <td>1</td>\n",
       "      <td>0</td>\n",
       "      <td>0.0</td>\n",
       "      <td>...</td>\n",
       "      <td>0</td>\n",
       "      <td>0</td>\n",
       "      <td>0</td>\n",
       "      <td>0</td>\n",
       "      <td>0</td>\n",
       "      <td>0</td>\n",
       "      <td>0</td>\n",
       "      <td>0</td>\n",
       "      <td>0</td>\n",
       "      <td>0</td>\n",
       "    </tr>\n",
       "    <tr>\n",
       "      <th>170826</th>\n",
       "      <td>0.064516</td>\n",
       "      <td>0.500000</td>\n",
       "      <td>0.999504</td>\n",
       "      <td>0.064516</td>\n",
       "      <td>0.35</td>\n",
       "      <td>0.333333</td>\n",
       "      <td>1.000000</td>\n",
       "      <td>0</td>\n",
       "      <td>0</td>\n",
       "      <td>0.0</td>\n",
       "      <td>...</td>\n",
       "      <td>0</td>\n",
       "      <td>0</td>\n",
       "      <td>0</td>\n",
       "      <td>0</td>\n",
       "      <td>0</td>\n",
       "      <td>0</td>\n",
       "      <td>0</td>\n",
       "      <td>0</td>\n",
       "      <td>0</td>\n",
       "      <td>0</td>\n",
       "    </tr>\n",
       "    <tr>\n",
       "      <th>161960</th>\n",
       "      <td>0.000000</td>\n",
       "      <td>0.000000</td>\n",
       "      <td>0.000000</td>\n",
       "      <td>0.354839</td>\n",
       "      <td>0.00</td>\n",
       "      <td>0.250000</td>\n",
       "      <td>1.000000</td>\n",
       "      <td>0</td>\n",
       "      <td>1</td>\n",
       "      <td>1.0</td>\n",
       "      <td>...</td>\n",
       "      <td>0</td>\n",
       "      <td>0</td>\n",
       "      <td>0</td>\n",
       "      <td>0</td>\n",
       "      <td>0</td>\n",
       "      <td>0</td>\n",
       "      <td>0</td>\n",
       "      <td>0</td>\n",
       "      <td>0</td>\n",
       "      <td>0</td>\n",
       "    </tr>\n",
       "    <tr>\n",
       "      <th>49199</th>\n",
       "      <td>0.000000</td>\n",
       "      <td>0.000000</td>\n",
       "      <td>0.000000</td>\n",
       "      <td>0.612903</td>\n",
       "      <td>0.35</td>\n",
       "      <td>0.916667</td>\n",
       "      <td>0.999007</td>\n",
       "      <td>0</td>\n",
       "      <td>0</td>\n",
       "      <td>0.0</td>\n",
       "      <td>...</td>\n",
       "      <td>0</td>\n",
       "      <td>0</td>\n",
       "      <td>0</td>\n",
       "      <td>0</td>\n",
       "      <td>0</td>\n",
       "      <td>0</td>\n",
       "      <td>0</td>\n",
       "      <td>0</td>\n",
       "      <td>0</td>\n",
       "      <td>0</td>\n",
       "    </tr>\n",
       "    <tr>\n",
       "      <th>126441</th>\n",
       "      <td>0.451613</td>\n",
       "      <td>0.083333</td>\n",
       "      <td>0.999504</td>\n",
       "      <td>0.677419</td>\n",
       "      <td>0.60</td>\n",
       "      <td>0.916667</td>\n",
       "      <td>0.999503</td>\n",
       "      <td>0</td>\n",
       "      <td>0</td>\n",
       "      <td>0.0</td>\n",
       "      <td>...</td>\n",
       "      <td>0</td>\n",
       "      <td>0</td>\n",
       "      <td>0</td>\n",
       "      <td>0</td>\n",
       "      <td>0</td>\n",
       "      <td>0</td>\n",
       "      <td>0</td>\n",
       "      <td>0</td>\n",
       "      <td>0</td>\n",
       "      <td>0</td>\n",
       "    </tr>\n",
       "  </tbody>\n",
       "</table>\n",
       "<p>5 rows × 70 columns</p>\n",
       "</div>"
      ],
      "text/plain": [
       "        date_first_booking_day  date_first_booking_month  \\\n",
       "77700                 0.709677                  0.416667   \n",
       "170826                0.064516                  0.500000   \n",
       "161960                0.000000                  0.000000   \n",
       "49199                 0.000000                  0.000000   \n",
       "126441                0.451613                  0.083333   \n",
       "\n",
       "        date_first_booking_year  date_account_created_day   age  \\\n",
       "77700                  0.999007                  0.548387  0.43   \n",
       "170826                 0.999504                  0.064516  0.35   \n",
       "161960                 0.000000                  0.354839  0.00   \n",
       "49199                  0.000000                  0.612903  0.35   \n",
       "126441                 0.999504                  0.677419  0.60   \n",
       "\n",
       "        date_account_created_month  date_account_created_year  gender_FEMALE  \\\n",
       "77700                     0.416667                   0.999503              1   \n",
       "170826                    0.333333                   1.000000              0   \n",
       "161960                    0.250000                   1.000000              0   \n",
       "49199                     0.916667                   0.999007              0   \n",
       "126441                    0.916667                   0.999503              0   \n",
       "\n",
       "        gender_-unknown-  signup_flow              ...               \\\n",
       "77700                  0          0.0              ...                \n",
       "170826                 0          0.0              ...                \n",
       "161960                 1          1.0              ...                \n",
       "49199                  0          0.0              ...                \n",
       "126441                 0          0.0              ...                \n",
       "\n",
       "        language_it  language_ru  affiliate_provider_yahoo  language_pt  \\\n",
       "77700             0            0                         0            0   \n",
       "170826            0            0                         0            0   \n",
       "161960            0            0                         0            0   \n",
       "49199             0            0                         0            0   \n",
       "126441            0            0                         0            0   \n",
       "\n",
       "        affiliate_provider_facebook-open-graph  language_ja  language_nl  \\\n",
       "77700                                        0            0            0   \n",
       "170826                                       0            0            0   \n",
       "161960                                       0            0            0   \n",
       "49199                                        0            0            0   \n",
       "126441                                       0            0            0   \n",
       "\n",
       "        first_browser_Opera  language_sv  affiliate_provider_padmapper  \n",
       "77700                     0            0                             0  \n",
       "170826                    0            0                             0  \n",
       "161960                    0            0                             0  \n",
       "49199                     0            0                             0  \n",
       "126441                    0            0                             0  \n",
       "\n",
       "[5 rows x 70 columns]"
      ]
     },
     "execution_count": 26,
     "metadata": {},
     "output_type": "execute_result"
    }
   ],
   "source": [
    "X_train.head()"
   ]
  },
  {
   "cell_type": "code",
   "execution_count": 27,
   "metadata": {
    "scrolled": true
   },
   "outputs": [
    {
     "name": "stdout",
     "output_type": "stream",
     "text": [
      "****************************************************************************************************\n",
      "Confusion Matrix ::\n",
      "[[    0     0     0     0     0     2     0     0     0     0     6     3]\n",
      " [    0     0     0     2     8     4     0     0     0     0    40     3]\n",
      " [    0     3     0     0     1     0     0     0     0     0    18     6]\n",
      " [    0     0     1     5     3     1     4     0     2     0    62     7]\n",
      " [    2     5     6    11    27     8    11     0     5     0   198    20]\n",
      " [    0     3     3     4     5     5     3     0     2     2    70    16]\n",
      " [    1     4     2     3    11     4     4     0     0     1    82    20]\n",
      " [    0     0     0     0     0     0     0 24722     0     0     0     0]\n",
      " [    0     1     0     0     1     0     1     0     0     1    22     1]\n",
      " [    0     0     0     0     1     0     1     0     0     0     6     0]\n",
      " [  110   235   200   401   895   382   527     0   128    46 11436  1855]\n",
      " [    4     9     5    12    29    16    21     0     3     3   315   583]]\n",
      "\n",
      "Accuracy Score ::\n",
      "0.8615867513058959\n",
      "\n",
      "Precision Score ::\n",
      "0.18523760801537845\n",
      "\n",
      "Recall Score ::\n",
      "0.20948311778675324\n",
      "\n",
      "F1 Score ::\n",
      "0.18556245287850706\n",
      "\n",
      "Classification Report ::\n",
      "             precision    recall  f1-score   support\n",
      "\n",
      "         AU       0.00      0.00      0.00        11\n",
      "         CA       0.00      0.00      0.00        57\n",
      "         DE       0.00      0.00      0.00        28\n",
      "         ES       0.01      0.06      0.02        85\n",
      "         FR       0.03      0.09      0.04       293\n",
      "         GB       0.01      0.04      0.02       113\n",
      "         IT       0.01      0.03      0.01       132\n",
      "        NDF       1.00      1.00      1.00     24722\n",
      "         NL       0.00      0.00      0.00        27\n",
      "         PT       0.00      0.00      0.00         8\n",
      "         US       0.93      0.71      0.80     16215\n",
      "      other       0.23      0.58      0.33      1000\n",
      "\n",
      "avg / total       0.94      0.86      0.89     42691\n",
      "\n",
      "****************************************************************************************************\n"
     ]
    }
   ],
   "source": [
    "clf = RandomForestClassifier()\n",
    "clf.fit(X=X_train, y=y_train)\n",
    "preds = clf.predict(X_test)\n",
    "rf_acc_score, rf_prec_score, rf_rec_score, rf_f1_score = score_report(preds, y_test)"
   ]
  },
  {
   "cell_type": "code",
   "execution_count": 28,
   "metadata": {
    "scrolled": true
   },
   "outputs": [
    {
     "name": "stdout",
     "output_type": "stream",
     "text": [
      "****************************************************************************************************\n",
      "Confusion Matrix ::\n",
      "[[    0     0     0     0     0     0     0     0     0     0     0     0]\n",
      " [    0     0     0     0     0     0     0     0     0     0     0     0]\n",
      " [    0     0     0     0     0     0     1     0     0     0     1     0]\n",
      " [    0     0     0     0     0     0     0     0     0     0     0     0]\n",
      " [    0     0     0     0     0     0     0     0     0     0     2     0]\n",
      " [    0     0     0     0     0     0     0     0     0     0     0     0]\n",
      " [    0     0     0     1     0     0     0     0     0     0     1     0]\n",
      " [    0     0     0     0     0     0     0 24722     0     0     0     0]\n",
      " [    0     0     0     0     0     0     0     0     0     0     0     0]\n",
      " [    0     0     0     0     0     0     0     0     0     0     0     0]\n",
      " [  117   260   217   436   979   422   568     0   140    53 12236  1979]\n",
      " [    0     0     0     1     2     0     3     0     0     0    15   535]]\n",
      "\n",
      "Accuracy Score ::\n",
      "0.878241315499754\n",
      "\n",
      "Precision Score ::\n",
      "0.18427149050588024\n",
      "\n",
      "Recall Score ::\n",
      "0.2220971513706482\n"
     ]
    },
    {
     "name": "stderr",
     "output_type": "stream",
     "text": [
      "c:\\users\\rajsu\\appdata\\local\\programs\\python\\python36\\lib\\site-packages\\sklearn\\metrics\\classification.py:1137: UndefinedMetricWarning: Recall is ill-defined and being set to 0.0 in labels with no true samples.\n",
      "  'recall', 'true', average, warn_for)\n",
      "c:\\users\\rajsu\\appdata\\local\\programs\\python\\python36\\lib\\site-packages\\sklearn\\metrics\\classification.py:1137: UndefinedMetricWarning: F-score is ill-defined and being set to 0.0 in labels with no true samples.\n",
      "  'recall', 'true', average, warn_for)\n"
     ]
    },
    {
     "name": "stdout",
     "output_type": "stream",
     "text": [
      "\n",
      "F1 Score ::\n",
      "0.18113023817895887\n",
      "\n",
      "Classification Report ::\n",
      "             precision    recall  f1-score   support\n",
      "\n",
      "         AU       0.00      0.00      0.00         0\n",
      "         CA       0.00      0.00      0.00         0\n",
      "         DE       0.00      0.00      0.00         2\n",
      "         ES       0.00      0.00      0.00         0\n",
      "         FR       0.00      0.00      0.00         2\n",
      "         GB       0.00      0.00      0.00         0\n",
      "         IT       0.00      0.00      0.00         2\n",
      "        NDF       1.00      1.00      1.00     24722\n",
      "         NL       0.00      0.00      0.00         0\n",
      "         PT       0.00      0.00      0.00         0\n",
      "         US       1.00      0.70      0.83     17407\n",
      "      other       0.21      0.96      0.35       556\n",
      "\n",
      "avg / total       0.99      0.88      0.92     42691\n",
      "\n",
      "****************************************************************************************************\n"
     ]
    },
    {
     "name": "stderr",
     "output_type": "stream",
     "text": [
      "c:\\users\\rajsu\\appdata\\local\\programs\\python\\python36\\lib\\site-packages\\sklearn\\metrics\\classification.py:1137: UndefinedMetricWarning: Recall and F-score are ill-defined and being set to 0.0 in labels with no true samples.\n",
      "  'recall', 'true', average, warn_for)\n"
     ]
    }
   ],
   "source": [
    "clf = BernoulliNB()\n",
    "clf.fit(X_train, y_train)\n",
    "preds = clf.predict(X_test)\n",
    "nb_acc_score, nb_prec_score, nb_rec_score, nb_f1_score = score_report(preds, y_test)"
   ]
  },
  {
   "cell_type": "code",
   "execution_count": 29,
   "metadata": {
    "scrolled": true
   },
   "outputs": [
    {
     "name": "stdout",
     "output_type": "stream",
     "text": [
      "****************************************************************************************************\n",
      "Confusion Matrix ::\n",
      "[[    0     0     0     0     0     0     0     0     0     0     0     0]\n",
      " [    0     0     0     0     0     0     0     0     0     0     1     0]\n",
      " [    0     0     0     0     0     0     0     0     0     0     0     0]\n",
      " [    0     0     0     0     1     0     0     0     0     0     0     0]\n",
      " [    0     0     0     0     1     0     0     0     0     0     2     1]\n",
      " [    0     0     0     0     0     0     0     0     0     0     1     0]\n",
      " [    0     0     0     2     1     0     3     0     0     0     5     0]\n",
      " [    0     0     0     0     0     0     0 24722     0     0     0     0]\n",
      " [    0     0     0     0     0     0     0     0     1     0     0     0]\n",
      " [    0     0     0     0     0     0     0     0     0     0     0     0]\n",
      " [  117   260   217   432   973   422   567     0   139    53 12217  1979]\n",
      " [    0     0     0     4     5     0     2     0     0     0    29   534]]\n",
      "\n",
      "Accuracy Score ::\n",
      "0.8778899533859595\n",
      "\n",
      "Precision Score ::\n",
      "0.18522639219824802\n",
      "\n",
      "Recall Score ::\n",
      "0.3463447571879303\n"
     ]
    },
    {
     "name": "stderr",
     "output_type": "stream",
     "text": [
      "c:\\users\\rajsu\\appdata\\local\\programs\\python\\python36\\lib\\site-packages\\sklearn\\metrics\\classification.py:1137: UndefinedMetricWarning: Recall is ill-defined and being set to 0.0 in labels with no true samples.\n",
      "  'recall', 'true', average, warn_for)\n",
      "c:\\users\\rajsu\\appdata\\local\\programs\\python\\python36\\lib\\site-packages\\sklearn\\metrics\\classification.py:1137: UndefinedMetricWarning: F-score is ill-defined and being set to 0.0 in labels with no true samples.\n",
      "  'recall', 'true', average, warn_for)\n"
     ]
    },
    {
     "name": "stdout",
     "output_type": "stream",
     "text": [
      "\n",
      "F1 Score ::\n",
      "0.18308089444249806\n",
      "\n",
      "Classification Report ::\n",
      "             precision    recall  f1-score   support\n",
      "\n",
      "         AU       0.00      0.00      0.00         0\n",
      "         CA       0.00      0.00      0.00         1\n",
      "         DE       0.00      0.00      0.00         0\n",
      "         ES       0.00      0.00      0.00         1\n",
      "         FR       0.00      0.25      0.00         4\n",
      "         GB       0.00      0.00      0.00         1\n",
      "         IT       0.01      0.27      0.01        11\n",
      "        NDF       1.00      1.00      1.00     24722\n",
      "         NL       0.01      1.00      0.01         1\n",
      "         PT       0.00      0.00      0.00         0\n",
      "         US       1.00      0.70      0.82     17376\n",
      "      other       0.21      0.93      0.35       574\n",
      "\n",
      "avg / total       0.99      0.88      0.92     42691\n",
      "\n",
      "****************************************************************************************************\n"
     ]
    },
    {
     "name": "stderr",
     "output_type": "stream",
     "text": [
      "c:\\users\\rajsu\\appdata\\local\\programs\\python\\python36\\lib\\site-packages\\sklearn\\metrics\\classification.py:1137: UndefinedMetricWarning: Recall and F-score are ill-defined and being set to 0.0 in labels with no true samples.\n",
      "  'recall', 'true', average, warn_for)\n"
     ]
    }
   ],
   "source": [
    "clf = MLPClassifier()\n",
    "clf.fit(X_train, y_train)\n",
    "preds = clf.predict(X_test)\n",
    "nn_acc_score, nn_prec_score, nn_rec_score, nn_f1_score = score_report(preds, y_test)"
   ]
  },
  {
   "cell_type": "code",
   "execution_count": 30,
   "metadata": {},
   "outputs": [],
   "source": [
    "I = pd.Index(['All features random forest', 'All features naive bayes', 'All features neural network', \\\n",
    "              'Top features random forest', 'Top features naive bayes', 'Top features neural network'], name='rows')\n",
    "C = pd.Index(['Accuracy', 'Precision', 'Recall', 'F1'], name='columns')\n",
    "\n",
    "score_matrix = pd.DataFrame(data=[[all_features_acc_score, all_features_prec_score, all_features_rec_score, all_features_f1_score], \\\n",
    "                       [all_nb_acc_score, all_nb_prec_score, all_nb_rec_score, all_nb_f1_score], \\\n",
    "                       [all_nn_acc_score, all_nn_prec_score, all_nn_rec_score, all_nn_f1_score], \\\n",
    "                       [rf_acc_score, rf_prec_score, rf_rec_score, rf_f1_score], \\\n",
    "                       [nb_acc_score, nb_prec_score, nb_rec_score, nb_f1_score], \\\n",
    "                       [nn_acc_score, nn_prec_score, nn_rec_score, nn_f1_score]], index=I, columns=C)"
   ]
  },
  {
   "cell_type": "markdown",
   "metadata": {},
   "source": [
    "Summary of the classifiers performance."
   ]
  },
  {
   "cell_type": "code",
   "execution_count": 31,
   "metadata": {},
   "outputs": [
    {
     "data": {
      "text/html": [
       "<div>\n",
       "<style scoped>\n",
       "    .dataframe tbody tr th:only-of-type {\n",
       "        vertical-align: middle;\n",
       "    }\n",
       "\n",
       "    .dataframe tbody tr th {\n",
       "        vertical-align: top;\n",
       "    }\n",
       "\n",
       "    .dataframe thead th {\n",
       "        text-align: right;\n",
       "    }\n",
       "</style>\n",
       "<table border=\"1\" class=\"dataframe\">\n",
       "  <thead>\n",
       "    <tr style=\"text-align: right;\">\n",
       "      <th>columns</th>\n",
       "      <th>Accuracy</th>\n",
       "      <th>Precision</th>\n",
       "      <th>Recall</th>\n",
       "      <th>F1</th>\n",
       "    </tr>\n",
       "    <tr>\n",
       "      <th>rows</th>\n",
       "      <th></th>\n",
       "      <th></th>\n",
       "      <th></th>\n",
       "      <th></th>\n",
       "    </tr>\n",
       "  </thead>\n",
       "  <tbody>\n",
       "    <tr>\n",
       "      <th>All features random forest</th>\n",
       "      <td>0.859525</td>\n",
       "      <td>0.183868</td>\n",
       "      <td>0.207369</td>\n",
       "      <td>0.183673</td>\n",
       "    </tr>\n",
       "    <tr>\n",
       "      <th>All features naive bayes</th>\n",
       "      <td>0.875875</td>\n",
       "      <td>0.183151</td>\n",
       "      <td>0.236243</td>\n",
       "      <td>0.179495</td>\n",
       "    </tr>\n",
       "    <tr>\n",
       "      <th>All features neural network</th>\n",
       "      <td>0.875735</td>\n",
       "      <td>0.183056</td>\n",
       "      <td>0.239906</td>\n",
       "      <td>0.179388</td>\n",
       "    </tr>\n",
       "    <tr>\n",
       "      <th>Top features random forest</th>\n",
       "      <td>0.861587</td>\n",
       "      <td>0.185238</td>\n",
       "      <td>0.209483</td>\n",
       "      <td>0.185562</td>\n",
       "    </tr>\n",
       "    <tr>\n",
       "      <th>Top features naive bayes</th>\n",
       "      <td>0.878241</td>\n",
       "      <td>0.184271</td>\n",
       "      <td>0.222097</td>\n",
       "      <td>0.181130</td>\n",
       "    </tr>\n",
       "    <tr>\n",
       "      <th>Top features neural network</th>\n",
       "      <td>0.877890</td>\n",
       "      <td>0.185226</td>\n",
       "      <td>0.346345</td>\n",
       "      <td>0.183081</td>\n",
       "    </tr>\n",
       "  </tbody>\n",
       "</table>\n",
       "</div>"
      ],
      "text/plain": [
       "columns                      Accuracy  Precision    Recall        F1\n",
       "rows                                                                \n",
       "All features random forest   0.859525   0.183868  0.207369  0.183673\n",
       "All features naive bayes     0.875875   0.183151  0.236243  0.179495\n",
       "All features neural network  0.875735   0.183056  0.239906  0.179388\n",
       "Top features random forest   0.861587   0.185238  0.209483  0.185562\n",
       "Top features naive bayes     0.878241   0.184271  0.222097  0.181130\n",
       "Top features neural network  0.877890   0.185226  0.346345  0.183081"
      ]
     },
     "execution_count": 31,
     "metadata": {},
     "output_type": "execute_result"
    }
   ],
   "source": [
    "score_matrix"
   ]
  }
 ],
 "metadata": {
  "kernelspec": {
   "display_name": "Python 3",
   "language": "python",
   "name": "python3"
  },
  "language_info": {
   "codemirror_mode": {
    "name": "ipython",
    "version": 3
   },
   "file_extension": ".py",
   "mimetype": "text/x-python",
   "name": "python",
   "nbconvert_exporter": "python",
   "pygments_lexer": "ipython3",
   "version": "3.6.5"
  }
 },
 "nbformat": 4,
 "nbformat_minor": 2
}
